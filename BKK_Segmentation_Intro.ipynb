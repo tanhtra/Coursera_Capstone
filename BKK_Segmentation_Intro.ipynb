{
  "nbformat": 4,
  "nbformat_minor": 0,
  "metadata": {
    "colab": {
      "name": "BKK Segmentation - Intro",
      "provenance": [],
      "collapsed_sections": []
    },
    "kernelspec": {
      "name": "python3",
      "display_name": "Python 3"
    },
    "language_info": {
      "name": "python"
    }
  },
  "cells": [
    {
      "cell_type": "markdown",
      "metadata": {
        "id": "VgslxW48q-L8"
      },
      "source": [
        "# Bangkok and it's Clusters\n",
        "\n",
        "## Introduction\n",
        "Bangkok is one of the biggest cities in Asia - with over 10 Million inhabitants and over 1.5 Million square kilometers of land.  The city is also home to the best restaurants and nightlife venues in the world and coupled with one of the more well developed transit systems in South East Asia - it is a truly thrumming metropolis.\n",
        "\n",
        "So what now?  How would one navigate the districts of Bangkok - in which there are 50-odd ones or if you want to be more specific - over 170 subdistricts with their own little quirky characteristics.  \n",
        "\n",
        "The goal for this notebook will be try to recommend areas within Bangkok for tourists or migrants with differing preferences to visit or reside in.  And perhaps if someone recommends an area - you would be able to see if that area shares a cluster/similarities with another.  \n",
        "\n",
        "The notebook will do this by first clustering Bangkok Districts and Subdistricts according to venues information from Foursquare.  \n",
        "\n",
        "The first block will cluster venues at the district level, the second one will perform the clustering at the subdistrict level."
      ]
    },
    {
      "cell_type": "markdown",
      "metadata": {
        "id": "9x97hTUlq9vH"
      },
      "source": [
        "## Data\n",
        "This notebook will use the Wikipedia page on Bangkok District and Subdistricts.  \n",
        "\n",
        "*   https://en.wikipedia.org/wiki/List_of_districts_of_Bangkok\n",
        "*   https://en.wikipedia.org/wiki/Khwaeng\n",
        "\n",
        "The coordinate information for the Districts are available through Wikipedia.  The Subdistricts coordinates will be acquired via HERE's API (will be imported in via CSV for ease of access) (https://developer.here.com/develop/rest-apis)\n",
        "\n",
        "The venues information will be acquired by using FourSquare's Explore API. (https://developer.foursquare.com/)"
      ]
    },
    {
      "cell_type": "markdown",
      "metadata": {
        "id": "nf4QCo-axAcC"
      },
      "source": [
        "### Notebook links\n",
        "\n",
        "* GitHub - https://github.com/tanhtra/Coursera_Capstone/blob/67e1bd94d836d77c92cfca289af27eb53beb90f2/BKK_Segmentation.ipynb\n",
        "* nbviewer (Map Visualisation) - https://nbviewer.jupyter.org/github/tanhtra/Coursera_Capstone/blob/main/BKK_Segmentation.ipynb"
      ]
    },
    {
      "cell_type": "code",
      "metadata": {
        "id": "yvRsq8q0xFyx"
      },
      "source": [
        ""
      ],
      "execution_count": null,
      "outputs": []
    }
  ]
}